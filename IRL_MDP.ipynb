{
 "cells": [
  {
   "cell_type": "code",
   "execution_count": 1,
   "metadata": {
    "collapsed": true
   },
   "outputs": [],
   "source": [
    "import numpy as np\n",
    "import pandas as pd\n",
    "import matplotlib.pyplot as plt\n",
    "from sklearn.cluster import KMeans\n",
    "from discretize_sepsis_actions import discretize_actions"
   ]
  },
  {
   "cell_type": "code",
   "execution_count": 108,
   "metadata": {
    "collapsed": true
   },
   "outputs": [],
   "source": [
    "# load data (from DH)\n",
    "df = pd.read_csv(\"/Users/linyingzhang/Documents/2017_Fall/CS282/project/data_hw2/cleansed_data.csv\")\n",
    "df['state_cluster'] = df['state_cluster'].astype('int')\n",
    "df['action_bin'] = df['action_bin'].astype('int')\n",
    "# load trajectories (from DH)\n",
    "trajectories = np.load(\"/Users/linyingzhang/Documents/2017_Fall/CS282/project/data_hw2/trajectories.npy\")\n",
    "# load transition_matrix \n",
    "transition_matrix = np.load(\"/Users/linyingzhang/Documents/2017_Fall/CS282/project/data_hw2/transition_matrix.npy\")"
   ]
  },
  {
   "cell_type": "code",
   "execution_count": 109,
   "metadata": {},
   "outputs": [
    {
     "data": {
      "text/plain": [
       "(753, 25, 753)"
      ]
     },
     "execution_count": 109,
     "metadata": {},
     "output_type": "execute_result"
    }
   ],
   "source": [
    "transition_matrix.shape"
   ]
  },
  {
   "cell_type": "code",
   "execution_count": 112,
   "metadata": {},
   "outputs": [
    {
     "data": {
      "text/plain": [
       "(252204, 5)"
      ]
     },
     "execution_count": 112,
     "metadata": {},
     "output_type": "execute_result"
    }
   ],
   "source": [
    "trajectories.shape"
   ]
  },
  {
   "cell_type": "code",
   "execution_count": 96,
   "metadata": {},
   "outputs": [
    {
     "data": {
      "text/html": [
       "<div>\n",
       "<style>\n",
       "    .dataframe thead tr:only-child th {\n",
       "        text-align: right;\n",
       "    }\n",
       "\n",
       "    .dataframe thead th {\n",
       "        text-align: left;\n",
       "    }\n",
       "\n",
       "    .dataframe tbody tr th {\n",
       "        vertical-align: top;\n",
       "    }\n",
       "</style>\n",
       "<table border=\"1\" class=\"dataframe\">\n",
       "  <thead>\n",
       "    <tr style=\"text-align: right;\">\n",
       "      <th></th>\n",
       "      <th>CO2_mEqL</th>\n",
       "      <th>paCO2</th>\n",
       "      <th>Arterial_pH</th>\n",
       "      <th>sedation</th>\n",
       "      <th>SGPT</th>\n",
       "      <th>bloc</th>\n",
       "      <th>Weight_kg</th>\n",
       "      <th>charttime</th>\n",
       "      <th>rrt</th>\n",
       "      <th>SpO2</th>\n",
       "      <th>...</th>\n",
       "      <th>Chloride</th>\n",
       "      <th>Arterial_BE</th>\n",
       "      <th>state_cluster</th>\n",
       "      <th>input_total_tev</th>\n",
       "      <th>input_4hourly_tev</th>\n",
       "      <th>median_dose_vaso</th>\n",
       "      <th>max_dose_vaso</th>\n",
       "      <th>action_bin</th>\n",
       "      <th>died_in_hosp</th>\n",
       "      <th>mortality_90d</th>\n",
       "    </tr>\n",
       "  </thead>\n",
       "  <tbody>\n",
       "    <tr>\n",
       "      <th>0</th>\n",
       "      <td>-1.393927</td>\n",
       "      <td>-0.850538</td>\n",
       "      <td>-0.367669</td>\n",
       "      <td>-0.651113</td>\n",
       "      <td>0.422769</td>\n",
       "      <td>1</td>\n",
       "      <td>-0.224117</td>\n",
       "      <td>7245052800</td>\n",
       "      <td>-0.266062</td>\n",
       "      <td>-0.207968</td>\n",
       "      <td>...</td>\n",
       "      <td>-0.308782</td>\n",
       "      <td>-1.100552</td>\n",
       "      <td>329</td>\n",
       "      <td>3500.0</td>\n",
       "      <td>2100.0</td>\n",
       "      <td>0.0</td>\n",
       "      <td>0.0</td>\n",
       "      <td>4</td>\n",
       "      <td>0</td>\n",
       "      <td>1</td>\n",
       "    </tr>\n",
       "    <tr>\n",
       "      <th>1</th>\n",
       "      <td>-1.393927</td>\n",
       "      <td>-0.850538</td>\n",
       "      <td>-0.367669</td>\n",
       "      <td>-0.651113</td>\n",
       "      <td>0.422769</td>\n",
       "      <td>2</td>\n",
       "      <td>-0.224117</td>\n",
       "      <td>7245067200</td>\n",
       "      <td>-0.266062</td>\n",
       "      <td>-1.359481</td>\n",
       "      <td>...</td>\n",
       "      <td>-0.308782</td>\n",
       "      <td>-1.100552</td>\n",
       "      <td>50</td>\n",
       "      <td>5499.0</td>\n",
       "      <td>1999.0</td>\n",
       "      <td>0.0</td>\n",
       "      <td>0.0</td>\n",
       "      <td>4</td>\n",
       "      <td>0</td>\n",
       "      <td>1</td>\n",
       "    </tr>\n",
       "    <tr>\n",
       "      <th>2</th>\n",
       "      <td>-0.940904</td>\n",
       "      <td>-0.740122</td>\n",
       "      <td>-0.293321</td>\n",
       "      <td>-0.651113</td>\n",
       "      <td>0.384762</td>\n",
       "      <td>3</td>\n",
       "      <td>-0.224117</td>\n",
       "      <td>7245081600</td>\n",
       "      <td>-0.266062</td>\n",
       "      <td>-0.160495</td>\n",
       "      <td>...</td>\n",
       "      <td>-0.017808</td>\n",
       "      <td>-0.924161</td>\n",
       "      <td>329</td>\n",
       "      <td>5604.0</td>\n",
       "      <td>105.0</td>\n",
       "      <td>0.0</td>\n",
       "      <td>0.0</td>\n",
       "      <td>2</td>\n",
       "      <td>0</td>\n",
       "      <td>1</td>\n",
       "    </tr>\n",
       "    <tr>\n",
       "      <th>3</th>\n",
       "      <td>-0.471104</td>\n",
       "      <td>-0.457906</td>\n",
       "      <td>-0.095059</td>\n",
       "      <td>-0.651113</td>\n",
       "      <td>0.380870</td>\n",
       "      <td>4</td>\n",
       "      <td>-0.224117</td>\n",
       "      <td>7245096000</td>\n",
       "      <td>-0.266062</td>\n",
       "      <td>-0.484716</td>\n",
       "      <td>...</td>\n",
       "      <td>0.011289</td>\n",
       "      <td>-0.453786</td>\n",
       "      <td>490</td>\n",
       "      <td>5664.0</td>\n",
       "      <td>60.0</td>\n",
       "      <td>0.0</td>\n",
       "      <td>0.0</td>\n",
       "      <td>2</td>\n",
       "      <td>0</td>\n",
       "      <td>1</td>\n",
       "    </tr>\n",
       "    <tr>\n",
       "      <th>4</th>\n",
       "      <td>-0.323452</td>\n",
       "      <td>-0.877933</td>\n",
       "      <td>0.777290</td>\n",
       "      <td>-0.651113</td>\n",
       "      <td>0.380870</td>\n",
       "      <td>5</td>\n",
       "      <td>-0.224117</td>\n",
       "      <td>7245110400</td>\n",
       "      <td>-0.266062</td>\n",
       "      <td>-0.546156</td>\n",
       "      <td>...</td>\n",
       "      <td>0.011289</td>\n",
       "      <td>-0.108845</td>\n",
       "      <td>532</td>\n",
       "      <td>5724.0</td>\n",
       "      <td>60.0</td>\n",
       "      <td>0.0</td>\n",
       "      <td>0.0</td>\n",
       "      <td>2</td>\n",
       "      <td>0</td>\n",
       "      <td>1</td>\n",
       "    </tr>\n",
       "  </tbody>\n",
       "</table>\n",
       "<p>5 rows × 61 columns</p>\n",
       "</div>"
      ],
      "text/plain": [
       "   CO2_mEqL     paCO2  Arterial_pH  sedation      SGPT  bloc  Weight_kg  \\\n",
       "0 -1.393927 -0.850538    -0.367669 -0.651113  0.422769     1  -0.224117   \n",
       "1 -1.393927 -0.850538    -0.367669 -0.651113  0.422769     2  -0.224117   \n",
       "2 -0.940904 -0.740122    -0.293321 -0.651113  0.384762     3  -0.224117   \n",
       "3 -0.471104 -0.457906    -0.095059 -0.651113  0.380870     4  -0.224117   \n",
       "4 -0.323452 -0.877933     0.777290 -0.651113  0.380870     5  -0.224117   \n",
       "\n",
       "    charttime       rrt      SpO2      ...        Chloride  Arterial_BE  \\\n",
       "0  7245052800 -0.266062 -0.207968      ...       -0.308782    -1.100552   \n",
       "1  7245067200 -0.266062 -1.359481      ...       -0.308782    -1.100552   \n",
       "2  7245081600 -0.266062 -0.160495      ...       -0.017808    -0.924161   \n",
       "3  7245096000 -0.266062 -0.484716      ...        0.011289    -0.453786   \n",
       "4  7245110400 -0.266062 -0.546156      ...        0.011289    -0.108845   \n",
       "\n",
       "   state_cluster  input_total_tev  input_4hourly_tev  median_dose_vaso  \\\n",
       "0            329           3500.0             2100.0               0.0   \n",
       "1             50           5499.0             1999.0               0.0   \n",
       "2            329           5604.0              105.0               0.0   \n",
       "3            490           5664.0               60.0               0.0   \n",
       "4            532           5724.0               60.0               0.0   \n",
       "\n",
       "   max_dose_vaso  action_bin  died_in_hosp  mortality_90d  \n",
       "0            0.0           4             0              1  \n",
       "1            0.0           4             0              1  \n",
       "2            0.0           2             0              1  \n",
       "3            0.0           2             0              1  \n",
       "4            0.0           2             0              1  \n",
       "\n",
       "[5 rows x 61 columns]"
      ]
     },
     "execution_count": 96,
     "metadata": {},
     "output_type": "execute_result"
    }
   ],
   "source": [
    "df.head()"
   ]
  },
  {
   "cell_type": "code",
   "execution_count": 67,
   "metadata": {
    "collapsed": true
   },
   "outputs": [],
   "source": [
    "# # Directly taken from DH\n",
    "# def make_mdp(trajectories, num_states, num_actions):\n",
    "#     # TODO: fix this hard coding\n",
    "#     num_terminal_states = 3\n",
    "#     transition_matrix = np.zeros((num_states + num_terminal_states, num_actions, num_states + num_terminal_states))\n",
    "#     reward_matrix = np.zeros((num_states + num_terminal_states, num_actions))\n",
    "#     TRANSITION_PROB_UNVISITED_SAS = 0.0\n",
    "#     REWARD_UNVISITED_SA = 0.0\n",
    "\n",
    "#     # create dataframe for easy tallying\n",
    "#     cols = ['s', 'a', 'r', 'new_s']\n",
    "#     df = pd.DataFrame(trajectories[:,1:], columns=cols)\n",
    "#     groups_sas = df.groupby(['s', 'a', 'new_s'])\n",
    "#     groups_sa = df.groupby(['s', 'a'])\n",
    "#     avg_reward_sa = groups_sa['r'].mean()\n",
    "#     transition_count_sa = groups_sa.size()\n",
    "#     transition_count_sas = groups_sas.size()\n",
    "    \n",
    "#     # TODO: vectorize this\n",
    "#     # but everything is O(1) inside the loop so it's O(n^2m)\n",
    "#     # TODO: consider mark transition to the imaginary terminal states\n",
    "#     # to the prob of 1.0. this may be undesirable consequences\n",
    "#     i = 0\n",
    "#     print('this is a loop of length', num_states**2 * num_actions)\n",
    "#     for s in range(num_states):\n",
    "#         for a in range(num_actions):\n",
    "#             # handle reward\n",
    "#             if (s, a) in avg_reward_sa:\n",
    "#                 reward_matrix[s, a] = avg_reward_sa[(s, a)]\n",
    "#             else:\n",
    "#                 reward_matrix[s, a] = REWARD_UNVISITED_SA\n",
    "#             # handle transitions\n",
    "#             if (s, a) in transition_count_sa:\n",
    "#                 num_sa = transition_count_sa[(s, a)]\n",
    "#                 for new_s in range(num_states):\n",
    "#                     i+=1\n",
    "#                     if i % 10000 == 0:\n",
    "#                         print('i am doing fine, progress:', s, a, new_s)\n",
    "#                     if (s, a, new_s) in transition_count_sas:\n",
    "#                         num_sas = transition_count_sas[(s, a, new_s)]\n",
    "#                         transition_matrix[s, a, new_s] = num_sas / num_sa\n",
    "#                     else:\n",
    "#                         transition_matrix[s, a, new_s] = TRANSITION_PROB_UNVISITED_SAS\n",
    "#             else:\n",
    "#                 transition_matrix[s, a, :] = TRANSITION_PROB_UNVISITED_SAS\n",
    "\n",
    "#     return transition_matrix, reward_matrix"
   ]
  },
  {
   "cell_type": "code",
   "execution_count": 26,
   "metadata": {},
   "outputs": [
    {
     "data": {
      "image/png": "[encoded data removed]",
      "text/plain": [
       "<matplotlib.figure.Figure at 0x105a74b90>"
      ]
     },
     "metadata": {},
     "output_type": "display_data"
    }
   ],
   "source": [
    "# # calculate the expected SOFA for each state\n",
    "# def get_Expectation_SOFA(df, states_sequence, state_count):\n",
    "#     state_E_SOFA = np.zeros((state_count, 1))\n",
    "#     SOFA_score = df['SOFA']\n",
    "#     SOFA_count = len(np.unique(SOFA_score))\n",
    "#     state_SOFA_count_table = np.zeros((state_count, SOFA_count))\n",
    "#     state_SOFA_matrix = np.zeros(state_SOFA_count_table.shape)\n",
    "\n",
    "#     for state in range(state_count):\n",
    "#         ind = np.where(states_sequence == state)[0]\n",
    "#         state_sofa = SOFA_score[ind]\n",
    "#         for sofa in state_sofa:\n",
    "#             state_SOFA_count_table[state, sofa]+=1\n",
    "#         state_SOFA_matrix[state, :] = state_SOFA_count_table[state, :]/sum(state_SOFA_count_table[state, :])\n",
    "#         # compute expectation E(SOFA) for each state\n",
    "#         state_E_SOFA[state,] = sum(state_SOFA_matrix[state, :]*range(SOFA_count))\n",
    "#     return state_E_SOFA\n",
    "\n",
    "# def get_state_mortality(df, states_sequence, state_count):    \n",
    "#     outcome = df['died_in_hosp']\n",
    "#     state_mortality = np.zeros((state_count, 1))\n",
    "#     for state in range(state_count):\n",
    "#         ind = np.where(states_sequence == state)[0]\n",
    "#         state_death = outcome[ind]\n",
    "#         state_mortality[state,] = float(sum(state_death))/len(state_death)\n",
    "#     return state_mortality\n",
    "\n",
    "# state_E_SOFA = get_Expectation_SOFA(df, states_sequence, state_count)\n",
    "# state_mortality = get_state_mortality(df, states_sequence, state_count)\n",
    "# # plot E(SOFA) and mortality for each state\n",
    "# sorted_state_E_SOFA = np.sort(state_E_SOFA[:, 0])/max(state_E_SOFA[:, 0])\n",
    "# ind_sorted = np.argsort(state_E_SOFA[:, 0])\n",
    "# sorted_state_mortality = state_mortality[ind_sorted]\n",
    "# plt.plot(sorted_state_E_SOFA, label = \"E(SOFA)\")\n",
    "# plt.scatter(range(state_count), sorted_state_mortality, marker = \".\", color = \"red\", label = \"Mortality\")\n",
    "# plt.xlabel(\"state\")\n",
    "# plt.ylabel(\"E(SOFA) or mortality\")\n",
    "# plt.legend(loc = 'best')\n",
    "# plt.show()\n",
    "\n",
    "### Conclusion: Some sort of association of SOFA and mortality state-wise. "
   ]
  },
  {
   "cell_type": "code",
   "execution_count": 32,
   "metadata": {
    "collapsed": true
   },
   "outputs": [],
   "source": [
    "def get_physician_policy_mode(states_sequence, actions_sequence, state_count, action_count):\n",
    "    # S x A count table\n",
    "    sa_count_table = np.zeros((state_count, action_count))\n",
    "    physician_policy = np.zeros((state_count))\n",
    "    for state in range(state_count):\n",
    "        ind = np.where(states_sequence == state)[0]\n",
    "        for action in range(action_count):\n",
    "            sa_count_table[state, action] += sum(actions_sequence[ind] == action)\n",
    "        physician_policy[state] = np.argmax(sa_count_table[state,:]) # when tie, smallest index returned\n",
    "    return physician_policy"
   ]
  },
  {
   "cell_type": "code",
   "execution_count": 115,
   "metadata": {},
   "outputs": [
    {
     "data": {
      "image/png": "[encoded data removed]",
      "text/plain": [
       "<matplotlib.figure.Figure at 0x111608090>"
      ]
     },
     "metadata": {},
     "output_type": "display_data"
    }
   ],
   "source": [
    "# plot physician's policy\n",
    "states_sequence = df['state_cluster'].values\n",
    "actions_sequence = df['action_bin'].values\n",
    "state_count = 750\n",
    "action_count = 25\n",
    "physician_policy = get_physician_policy_mode(states_sequence, actions_sequence, state_count, action_count)\n",
    "# plot physician's policy\n",
    "plt.hist(physician_policy,bins=25)\n",
    "plt.title(\"Physician policy (mode) distribution\")\n",
    "plt.xlabel(\"action\")\n",
    "plt.ylabel(\"Counts\")\n",
    "plt.show()\n",
    "# Different distribution pattern than my action sequences?????"
   ]
  },
  {
   "cell_type": "code",
   "execution_count": 127,
   "metadata": {},
   "outputs": [
    {
     "data": {
      "text/html": [
       "<div>\n",
       "<style>\n",
       "    .dataframe thead tr:only-child th {\n",
       "        text-align: right;\n",
       "    }\n",
       "\n",
       "    .dataframe thead th {\n",
       "        text-align: left;\n",
       "    }\n",
       "\n",
       "    .dataframe tbody tr th {\n",
       "        vertical-align: top;\n",
       "    }\n",
       "</style>\n",
       "<table border=\"1\" class=\"dataframe\">\n",
       "  <thead>\n",
       "    <tr style=\"text-align: right;\">\n",
       "      <th></th>\n",
       "      <th>sedation</th>\n",
       "      <th>rrt</th>\n",
       "      <th>mechvent</th>\n",
       "      <th>re_admission</th>\n",
       "      <th>gender</th>\n",
       "    </tr>\n",
       "  </thead>\n",
       "  <tbody>\n",
       "    <tr>\n",
       "      <th>0</th>\n",
       "      <td>-0.651113</td>\n",
       "      <td>-0.266062</td>\n",
       "      <td>-0.891675</td>\n",
       "      <td>0</td>\n",
       "      <td>0</td>\n",
       "    </tr>\n",
       "    <tr>\n",
       "      <th>1</th>\n",
       "      <td>-0.651113</td>\n",
       "      <td>-0.266062</td>\n",
       "      <td>-0.891675</td>\n",
       "      <td>0</td>\n",
       "      <td>0</td>\n",
       "    </tr>\n",
       "    <tr>\n",
       "      <th>2</th>\n",
       "      <td>-0.651113</td>\n",
       "      <td>-0.266062</td>\n",
       "      <td>-0.891675</td>\n",
       "      <td>0</td>\n",
       "      <td>0</td>\n",
       "    </tr>\n",
       "    <tr>\n",
       "      <th>3</th>\n",
       "      <td>-0.651113</td>\n",
       "      <td>-0.266062</td>\n",
       "      <td>-0.891675</td>\n",
       "      <td>0</td>\n",
       "      <td>0</td>\n",
       "    </tr>\n",
       "    <tr>\n",
       "      <th>4</th>\n",
       "      <td>-0.651113</td>\n",
       "      <td>-0.266062</td>\n",
       "      <td>-0.891675</td>\n",
       "      <td>0</td>\n",
       "      <td>0</td>\n",
       "    </tr>\n",
       "  </tbody>\n",
       "</table>\n",
       "</div>"
      ],
      "text/plain": [
       "   sedation       rrt  mechvent  re_admission  gender\n",
       "0 -0.651113 -0.266062 -0.891675             0       0\n",
       "1 -0.651113 -0.266062 -0.891675             0       0\n",
       "2 -0.651113 -0.266062 -0.891675             0       0\n",
       "3 -0.651113 -0.266062 -0.891675             0       0\n",
       "4 -0.651113 -0.266062 -0.891675             0       0"
      ]
     },
     "execution_count": 127,
     "metadata": {},
     "output_type": "execute_result"
    }
   ],
   "source": [
    "# columns that are binary:\n",
    "def find_binary_columns(df):\n",
    "    variables_to_use = []\n",
    "    for i in range(df.shape[1]):\n",
    "        if len(df.iloc[:,i].unique())==2:\n",
    "            variables_to_use.append(i)\n",
    "    #exclude last two columns: died_in_hosp and mortality_90d\n",
    "    variables_to_use = variables_to_use[:-2]\n",
    "    return variables_to_use\n",
    "variables_to_use = find_binary_columns(df)\n",
    "# display binary columns\n",
    "df.iloc[:5,variables_to_use]"
   ]
  },
  {
   "cell_type": "markdown",
   "metadata": {},
   "source": [
    "# IRL"
   ]
  },
  {
   "cell_type": "code",
   "execution_count": 138,
   "metadata": {
    "collapsed": true
   },
   "outputs": [],
   "source": [
    "# state basis function\n",
    "def phi(centroid, state, variables_to_use):\n",
    "    phi_st = centroid[state, variables_to_use]\n",
    "    return phi_st\n",
    "\n",
    "# sampling heuristic trajectories\n",
    "def sampling_trajectories(transition_matrix, policy, m, state_count):\n",
    "    absorption_states = [state_count, state_count+1, state_count+2]\n",
    "    \n",
    "    keys = range(m)\n",
    "    sample_trajectories = dict.fromkeys(keys, None)\n",
    "    \n",
    "    for i in keys:\n",
    "        sample_trajectories[i] = []\n",
    "        #start from a random state\n",
    "        state = int(np.random.choice(range(state_count)))\n",
    "        sample_trajectories[i].append(state)\n",
    "        while state not in absorption_states:\n",
    "            action = int(policy[state])\n",
    "            probs = transition_matrix[state,action,:]\n",
    "            next_state = int(np.random.choice(np.arange(state_count+len(absorption_states)), p=probs))\n",
    "            sample_trajectories[i].append(next_state)\n",
    "            state = np.copy(next_state)\n",
    "    return sample_trajectories\n",
    "    \n",
    "# function to calculate mu\n",
    "def feature_expectation(sample_trajectories, gamma):\n",
    "    mu = np.zeros((variable_count))\n",
    "    \n",
    "    # loop over all trajectories\n",
    "    for i in range(m):\n",
    "        trajectory = sample_trajectories[i]\n",
    "        # loop over all states in that trajectory\n",
    "        t = 0\n",
    "        for state in trajectory:\n",
    "            phi_st = phi(centroid, state, variables_to_use)\n",
    "            mu += gamma**t*phi_st\n",
    "            t+=1\n",
    "    mu = 1/float(m)*mu    \n",
    "    return mu\n",
    "\n",
    "def reward(w, centroid, variables_to_use):\n",
    "    R = w*centroid[:, variables_to_use]\n",
    "    return R"
   ]
  },
  {
   "cell_type": "code",
   "execution_count": 141,
   "metadata": {},
   "outputs": [
    {
     "ename": "ValueError",
     "evalue": "probabilities do not sum to 1",
     "output_type": "error",
     "traceback": [
      "\u001b[0;31m---------------------------------------------------------------------------\u001b[0m",
      "\u001b[0;31mValueError\u001b[0m                                Traceback (most recent call last)",
      "\u001b[0;32m<ipython-input-141-447ae7a11bf4>\u001b[0m in \u001b[0;36m<module>\u001b[0;34m()\u001b[0m\n\u001b[1;32m     17\u001b[0m \u001b[0;31m# sample trajectories\u001b[0m\u001b[0;34m\u001b[0m\u001b[0;34m\u001b[0m\u001b[0m\n\u001b[1;32m     18\u001b[0m \u001b[0mm\u001b[0m\u001b[0;34m=\u001b[0m\u001b[0;36m5\u001b[0m\u001b[0;34m\u001b[0m\u001b[0m\n\u001b[0;32m---> 19\u001b[0;31m \u001b[0msample_trajectories\u001b[0m \u001b[0;34m=\u001b[0m \u001b[0msampling_trajectories\u001b[0m\u001b[0;34m(\u001b[0m\u001b[0mtransition_matrix\u001b[0m\u001b[0;34m,\u001b[0m \u001b[0mpi\u001b[0m\u001b[0;34m,\u001b[0m \u001b[0mm\u001b[0m\u001b[0;34m,\u001b[0m \u001b[0mstate_count\u001b[0m\u001b[0;34m)\u001b[0m\u001b[0;34m\u001b[0m\u001b[0m\n\u001b[0m\u001b[1;32m     20\u001b[0m \u001b[0mmu\u001b[0m \u001b[0;34m=\u001b[0m \u001b[0mfeature_expectation\u001b[0m\u001b[0;34m(\u001b[0m\u001b[0msample_trajectories\u001b[0m\u001b[0;34m,\u001b[0m \u001b[0mgamma\u001b[0m\u001b[0;34m)\u001b[0m\u001b[0;34m\u001b[0m\u001b[0m\n",
      "\u001b[0;32m<ipython-input-138-1474506afcd5>\u001b[0m in \u001b[0;36msampling_trajectories\u001b[0;34m(transition_matrix, policy, m, state_count)\u001b[0m\n\u001b[1;32m     19\u001b[0m             \u001b[0maction\u001b[0m \u001b[0;34m=\u001b[0m \u001b[0mint\u001b[0m\u001b[0;34m(\u001b[0m\u001b[0mpolicy\u001b[0m\u001b[0;34m[\u001b[0m\u001b[0mstate\u001b[0m\u001b[0;34m]\u001b[0m\u001b[0;34m)\u001b[0m\u001b[0;34m\u001b[0m\u001b[0m\n\u001b[1;32m     20\u001b[0m             \u001b[0mprobs\u001b[0m \u001b[0;34m=\u001b[0m \u001b[0mtransition_matrix\u001b[0m\u001b[0;34m[\u001b[0m\u001b[0mstate\u001b[0m\u001b[0;34m,\u001b[0m\u001b[0maction\u001b[0m\u001b[0;34m,\u001b[0m\u001b[0;34m:\u001b[0m\u001b[0;34m]\u001b[0m\u001b[0;34m\u001b[0m\u001b[0m\n\u001b[0;32m---> 21\u001b[0;31m             \u001b[0mnext_state\u001b[0m \u001b[0;34m=\u001b[0m \u001b[0mint\u001b[0m\u001b[0;34m(\u001b[0m\u001b[0mnp\u001b[0m\u001b[0;34m.\u001b[0m\u001b[0mrandom\u001b[0m\u001b[0;34m.\u001b[0m\u001b[0mchoice\u001b[0m\u001b[0;34m(\u001b[0m\u001b[0mnp\u001b[0m\u001b[0;34m.\u001b[0m\u001b[0marange\u001b[0m\u001b[0;34m(\u001b[0m\u001b[0mstate_count\u001b[0m\u001b[0;34m+\u001b[0m\u001b[0mlen\u001b[0m\u001b[0;34m(\u001b[0m\u001b[0mabsorption_states\u001b[0m\u001b[0;34m)\u001b[0m\u001b[0;34m)\u001b[0m\u001b[0;34m,\u001b[0m \u001b[0mp\u001b[0m\u001b[0;34m=\u001b[0m\u001b[0mprobs\u001b[0m\u001b[0;34m)\u001b[0m\u001b[0;34m)\u001b[0m\u001b[0;34m\u001b[0m\u001b[0m\n\u001b[0m\u001b[1;32m     22\u001b[0m             \u001b[0msample_trajectories\u001b[0m\u001b[0;34m[\u001b[0m\u001b[0mi\u001b[0m\u001b[0;34m]\u001b[0m\u001b[0;34m.\u001b[0m\u001b[0mappend\u001b[0m\u001b[0;34m(\u001b[0m\u001b[0mnext_state\u001b[0m\u001b[0;34m)\u001b[0m\u001b[0;34m\u001b[0m\u001b[0m\n\u001b[1;32m     23\u001b[0m             \u001b[0mstate\u001b[0m \u001b[0;34m=\u001b[0m \u001b[0mnp\u001b[0m\u001b[0;34m.\u001b[0m\u001b[0mcopy\u001b[0m\u001b[0;34m(\u001b[0m\u001b[0mnext_state\u001b[0m\u001b[0;34m)\u001b[0m\u001b[0;34m\u001b[0m\u001b[0m\n",
      "\u001b[0;32mmtrand.pyx\u001b[0m in \u001b[0;36mmtrand.RandomState.choice (numpy/random/mtrand/mtrand.c:17766)\u001b[0;34m()\u001b[0m\n",
      "\u001b[0;31mValueError\u001b[0m: probabilities do not sum to 1"
     ]
    }
   ],
   "source": [
    "gamma = 0.95\n",
    "action_count = 25\n",
    "state_count = 750\n",
    "\n",
    "variables_to_use = find_binary_columns(df)\n",
    "variable_count = len(variables_to_use)\n",
    "\n",
    "# initialize w\n",
    "w = np.zeros((variable_count))\n",
    "# initialize policy pi\n",
    "pi = np.zeros((state_count))\n",
    "# make some random centroid matrix\n",
    "centroid = np.ones((state_count, df.shape[1]))\n",
    "\n",
    "R = reward(w, centroid, variables_to_use)\n",
    "\n",
    "# sample trajectories\n",
    "m=100\n",
    "sample_trajectories = sampling_trajectories(transition_matrix, pi, m, state_count)\n",
    "mu = feature_expectation(sample_trajectories, gamma)"
   ]
  },
  {
   "cell_type": "code",
   "execution_count": 1,
   "metadata": {},
   "outputs": [
    {
     "ename": "NameError",
     "evalue": "name 'state_count' is not defined",
     "output_type": "error",
     "traceback": [
      "\u001b[0;31m---------------------------------------------------------------------------\u001b[0m",
      "\u001b[0;31mNameError\u001b[0m                                 Traceback (most recent call last)",
      "\u001b[0;32m<ipython-input-1-631169c96b50>\u001b[0m in \u001b[0;36m<module>\u001b[0;34m()\u001b[0m\n\u001b[1;32m      1\u001b[0m \u001b[0;31m## PROBLEM ##: transition_matrix[state, action, :] NOT SUM TO 1 !!!\u001b[0m\u001b[0;34m\u001b[0m\u001b[0;34m\u001b[0m\u001b[0m\n\u001b[0;32m----> 2\u001b[0;31m \u001b[0;32mfor\u001b[0m \u001b[0mstate\u001b[0m \u001b[0;32min\u001b[0m \u001b[0mrange\u001b[0m\u001b[0;34m(\u001b[0m\u001b[0mstate_count\u001b[0m\u001b[0;34m)\u001b[0m\u001b[0;34m:\u001b[0m\u001b[0;34m\u001b[0m\u001b[0m\n\u001b[0m\u001b[1;32m      3\u001b[0m     \u001b[0;32mfor\u001b[0m \u001b[0maction\u001b[0m \u001b[0;32min\u001b[0m \u001b[0mrange\u001b[0m\u001b[0;34m(\u001b[0m\u001b[0maction_count\u001b[0m\u001b[0;34m)\u001b[0m\u001b[0;34m:\u001b[0m\u001b[0;34m\u001b[0m\u001b[0m\n\u001b[1;32m      4\u001b[0m         \u001b[0;32mif\u001b[0m \u001b[0msum\u001b[0m\u001b[0;34m(\u001b[0m\u001b[0mtransition_matrix\u001b[0m\u001b[0;34m[\u001b[0m\u001b[0mstate\u001b[0m\u001b[0;34m,\u001b[0m \u001b[0maction\u001b[0m\u001b[0;34m,\u001b[0m \u001b[0;34m:\u001b[0m\u001b[0;34m]\u001b[0m\u001b[0;34m)\u001b[0m\u001b[0;34m!=\u001b[0m\u001b[0;36m1\u001b[0m\u001b[0;34m:\u001b[0m\u001b[0;34m\u001b[0m\u001b[0m\n\u001b[1;32m      5\u001b[0m             \u001b[0;32mif\u001b[0m \u001b[0msum\u001b[0m\u001b[0;34m(\u001b[0m\u001b[0mtransition_matrix\u001b[0m\u001b[0;34m[\u001b[0m\u001b[0mstate\u001b[0m\u001b[0;34m,\u001b[0m \u001b[0maction\u001b[0m\u001b[0;34m,\u001b[0m \u001b[0;34m:\u001b[0m\u001b[0;34m]\u001b[0m\u001b[0;34m)\u001b[0m\u001b[0;34m!=\u001b[0m\u001b[0;36m0\u001b[0m\u001b[0;34m:\u001b[0m\u001b[0;34m\u001b[0m\u001b[0m\n",
      "\u001b[0;31mNameError\u001b[0m: name 'state_count' is not defined"
     ]
    }
   ],
   "source": [
    "## PROBLEM ##: transition_matrix[state, action, :] NOT SUM TO 1 !!!\n",
    "\n",
    "for state in range(state_count):\n",
    "    for action in range(action_count):\n",
    "        if sum(transition_matrix[state, action, :])!=1:\n",
    "            if sum(transition_matrix[state, action, :])!=0:\n",
    "                print (state, action)"
   ]
  },
  {
   "cell_type": "code",
   "execution_count": null,
   "metadata": {
    "collapsed": true
   },
   "outputs": [],
   "source": []
  }
 ],
 "metadata": {
  "kernelspec": {
   "display_name": "Python 2",
   "language": "python",
   "name": "python2"
  },
  "language_info": {
   "codemirror_mode": {
    "name": "ipython",
    "version": 2
   },
   "file_extension": ".py",
   "mimetype": "text/x-python",
   "name": "python",
   "nbconvert_exporter": "python",
   "pygments_lexer": "ipython2",
   "version": "2.7.13"
  }
 },
 "nbformat": 4,
 "nbformat_minor": 2
}
