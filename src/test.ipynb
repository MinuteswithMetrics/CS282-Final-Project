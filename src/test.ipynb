{
 "cells": [
  {
   "cell_type": "code",
   "execution_count": 3,
   "metadata": {},
   "outputs": [
    {
     "ename": "NameError",
     "evalue": "name 'df_train' is not defined",
     "output_type": "error",
     "traceback": [
      "\u001b[0;31m---------------------------------------------------------------------------\u001b[0m",
      "\u001b[0;31mNameError\u001b[0m                                 Traceback (most recent call last)",
      "\u001b[0;32m<ipython-input-3-8be8c7bf02d3>\u001b[0m in \u001b[0;36m<module>\u001b[0;34m()\u001b[0m\n\u001b[1;32m     17\u001b[0m \u001b[0mverbose\u001b[0m \u001b[0;34m=\u001b[0m \u001b[0;32mTrue\u001b[0m\u001b[0;34m\u001b[0m\u001b[0m\n\u001b[1;32m     18\u001b[0m \u001b[0;34m\u001b[0m\u001b[0m\n\u001b[0;32m---> 19\u001b[0;31m \u001b[0mdf\u001b[0m\u001b[0;34m,\u001b[0m \u001b[0mdf_cleansed\u001b[0m\u001b[0;34m,\u001b[0m \u001b[0mdf_centroids\u001b[0m \u001b[0;34m=\u001b[0m \u001b[0mload_data\u001b[0m\u001b[0;34m(\u001b[0m\u001b[0;34m)\u001b[0m\u001b[0;34m\u001b[0m\u001b[0m\n\u001b[0m\u001b[1;32m     20\u001b[0m \u001b[0mfeature_columns\u001b[0m \u001b[0;34m=\u001b[0m \u001b[0mdf_centroids\u001b[0m\u001b[0;34m.\u001b[0m\u001b[0mcolumns\u001b[0m\u001b[0;34m\u001b[0m\u001b[0m\n\u001b[1;32m     21\u001b[0m \u001b[0mtrajectories\u001b[0m \u001b[0;34m=\u001b[0m \u001b[0mextract_trajectories\u001b[0m\u001b[0;34m(\u001b[0m\u001b[0mdf_cleansed\u001b[0m\u001b[0;34m,\u001b[0m \u001b[0mNUM_PURE_STATES\u001b[0m\u001b[0;34m)\u001b[0m\u001b[0;34m\u001b[0m\u001b[0m\n",
      "\u001b[0;32m~/tmp/CS282-Final-Project/src/utils/utils.py\u001b[0m in \u001b[0;36mload_data\u001b[0;34m()\u001b[0m\n\u001b[1;32m     40\u001b[0m         \u001b[0mdf_centroids\u001b[0m \u001b[0;34m=\u001b[0m \u001b[0mpd\u001b[0m\u001b[0;34m.\u001b[0m\u001b[0mDataFrame\u001b[0m\u001b[0;34m(\u001b[0m\u001b[0mX_centroids\u001b[0m\u001b[0;34m,\u001b[0m \u001b[0mcolumns\u001b[0m\u001b[0;34m=\u001b[0m\u001b[0mX_to_cluster\u001b[0m\u001b[0;34m.\u001b[0m\u001b[0mcolumns\u001b[0m\u001b[0;34m)\u001b[0m\u001b[0;34m\u001b[0m\u001b[0m\n\u001b[1;32m     41\u001b[0m \u001b[0;34m\u001b[0m\u001b[0m\n\u001b[0;32m---> 42\u001b[0;31m         \u001b[0mdf_cleansed\u001b[0m\u001b[0;34m.\u001b[0m\u001b[0mto_csv\u001b[0m\u001b[0;34m(\u001b[0m\u001b[0mCLEANSED_DATA_FILEPATH\u001b[0m\u001b[0;34m,\u001b[0m \u001b[0mindex\u001b[0m\u001b[0;34m=\u001b[0m\u001b[0;32mFalse\u001b[0m\u001b[0;34m)\u001b[0m\u001b[0;34m\u001b[0m\u001b[0m\n\u001b[0m\u001b[1;32m     43\u001b[0m         \u001b[0mdf_centroids\u001b[0m\u001b[0;34m.\u001b[0m\u001b[0mto_csv\u001b[0m\u001b[0;34m(\u001b[0m\u001b[0mCENTROIDS_DATA_FILEPATH\u001b[0m\u001b[0;34m,\u001b[0m \u001b[0mindex\u001b[0m\u001b[0;34m=\u001b[0m\u001b[0;32mFalse\u001b[0m\u001b[0;34m)\u001b[0m\u001b[0;34m\u001b[0m\u001b[0m\n\u001b[1;32m     44\u001b[0m     \u001b[0;32mreturn\u001b[0m \u001b[0;34m(\u001b[0m\u001b[0mdf_train\u001b[0m\u001b[0;34m,\u001b[0m \u001b[0mdf_cleansed_train\u001b[0m\u001b[0;34m,\u001b[0m \u001b[0mdf_centroids_train\u001b[0m\u001b[0;34m)\u001b[0m\u001b[0;34m\u001b[0m\u001b[0m\n",
      "\u001b[0;31mNameError\u001b[0m: name 'df_train' is not defined"
     ]
    }
   ],
   "source": [
    "import numpy as np\n",
    "import pandas as pd\n",
    "\n",
    "from utils.utils import load_data, extract_trajectories\n",
    "from policy.policy import GreedyPolicy, RandomPolicy, StochasticPolicy\n",
    "from policy.custom_policy import get_physician_policy\n",
    "from mdp.builder import make_mdp\n",
    "from mdp.solver import Q_value_iteration\n",
    "from irl.max_margin import run_max_margin\n",
    "from irl.irl import  make_state_centroid_finder, make_phi, make_initial_state_sampler\n",
    "from constants import NUM_STATES, NUM_ACTIONS, TERMINAL_STATE_ALIVE, TERMINAL_STATE_DEAD, NUM_PURE_STATES\n",
    "# set hyperparams here\n",
    "num_iterations = 2\n",
    "num_trials = 2\n",
    "svm_penalty = 300.0\n",
    "svm_epsilon = 0.01\n",
    "verbose = True\n",
    "\n",
    "df, df_cleansed, df_centroids = load_data()\n",
    "feature_columns = df_centroids.columns\n",
    "trajectories = extract_trajectories(df_cleansed, NUM_PURE_STATES)\n",
    "trajectory_ids = trajectories[:, 0]\n",
    "num_exp_trajectories = np.unique(trajectories[:, 0]).shape[0]\n",
    "\n",
    "transition_matrix, reward_matrix = make_mdp(trajectories, NUM_STATES, NUM_ACTIONS)\n",
    "\n",
    "# adjust rmax, rmin to keep w^Tphi(s) <= 1\n",
    "reward_matrix[TERMINAL_STATE_ALIVE] = np.sqrt(len(feature_columns))\n",
    "reward_matrix[TERMINAL_STATE_DEAD]  = -np.sqrt(len(feature_columns))\n",
    "## make r(s, a) -> r(s)\n",
    "## r(s) = E_pi_uniform[r(s,a)]\n",
    "reward_matrix = np.mean(reward_matrix, axis=1)\n",
    "\n",
    "# check irl/max_margin for implementation\n",
    "if verbose:\n",
    "    print('number of features', len(feature_columns))\n",
    "    print('transition_matrix size', transition_matrix.shape)\n",
    "    print('reward_matrix size', reward_matrix.shape)\n",
    "    print('max rewards: ', np.max(reward_matrix))\n",
    "    print('min rewards: ', np.min(reward_matrix))\n",
    "    print('max intermediate rewards: ', np.max(reward_matrix[:-2]))\n",
    "    print('min intermediate rewards: ', np.min(reward_matrix[:-2]))\n",
    "    print('')\n",
    "\n",
    "# initialize max margin irl stuff\n",
    "sample_initial_state = make_initial_state_sampler(df_cleansed)\n",
    "get_state = make_state_centroid_finder(df_centroids, feature_columns)\n",
    "phi = make_phi(df_centroids)\n",
    "\n",
    "# extract empirical expert policy\n",
    "pi_expert = get_physician_policy(trajectories)\n",
    "\n"
   ]
  },
  {
   "cell_type": "markdown",
   "metadata": {},
   "source": []
  },
  {
   "cell_type": "code",
   "execution_count": null,
   "metadata": {},
   "outputs": [],
   "source": [
    "mu_pi_expert, v_pi_expert = estimate_feature_expectation(transition_matrix, sample_initial_state, get_state, phi, pi_expert)\n"
   ]
  },
  {
   "cell_type": "code",
   "execution_count": 7,
   "metadata": {},
   "outputs": [
    {
     "name": "stdout",
     "output_type": "stream",
     "text": [
      "Index(['bloc', 'icustayid', 'charttime', 'gender', 'age', 'elixhauser',\n",
      "       're_admission', 'SOFA', 'SIRS', 'Weight_kg', 'GCS', 'HR', 'SysBP',\n",
      "       'MeanBP', 'DiaBP', 'Shock_Index', 'RR', 'SpO2', 'Temp_C', 'FiO2_1',\n",
      "       'Potassium', 'Sodium', 'Chloride', 'Glucose', 'BUN', 'Creatinine',\n",
      "       'Magnesium', 'Calcium', 'Ionised_Ca', 'CO2_mEqL', 'SGOT', 'SGPT',\n",
      "       'Total_bili', 'Albumin', 'Hb', 'WBC_count', 'Platelets_count', 'PTT',\n",
      "       'PT', 'INR', 'Arterial_pH', 'paO2', 'paCO2', 'Arterial_BE',\n",
      "       'Arterial_lactate', 'HCO3', 'PaO2_FiO2', 'median_dose_vaso',\n",
      "       'max_dose_vaso', 'input_total_tev', 'input_4hourly_tev', 'output_total',\n",
      "       'output_4hourly', 'cumulated_balance_tev', 'sedation', 'mechvent',\n",
      "       'rrt', 'died_in_hosp', 'mortality_90d'],\n",
      "      dtype='object')\n",
      "Index(['bloc', 'icustayid', 'charttime', 'gender', 'age', 'elixhauser',\n",
      "       're_admission', 'SOFA', 'SIRS', 'Weight_kg', 'GCS', 'HR', 'SysBP',\n",
      "       'MeanBP', 'DiaBP', 'Shock_Index', 'RR', 'SpO2', 'Temp_C', 'FiO2_1',\n",
      "       'Potassium', 'Sodium', 'Chloride', 'Glucose', 'BUN', 'Creatinine',\n",
      "       'Magnesium', 'Calcium', 'Ionised_Ca', 'CO2_mEqL', 'SGOT', 'SGPT',\n",
      "       'Total_bili', 'Albumin', 'Hb', 'WBC_count', 'Platelets_count', 'PTT',\n",
      "       'PT', 'INR', 'Arterial_pH', 'paO2', 'paCO2', 'Arterial_BE',\n",
      "       'Arterial_lactate', 'HCO3', 'PaO2_FiO2', 'median_dose_vaso',\n",
      "       'max_dose_vaso', 'input_total_tev', 'input_4hourly_tev', 'output_total',\n",
      "       'output_4hourly', 'cumulated_balance_tev', 'sedation', 'mechvent',\n",
      "       'rrt', 'died_in_hosp', 'mortality_90d'],\n",
      "      dtype='object')\n"
     ]
    }
   ],
   "source": [
    "import pandas as pd\n",
    "train_df = pd.read_csv('data/Sepsis_imp_train.csv')\n",
    "print(train_df.columns)\n",
    "full_df = pd.read_csv('data/sepsis.csv')\n",
    "print(full_df.columns)"
   ]
  },
  {
   "cell_type": "code",
   "execution_count": null,
   "metadata": {},
   "outputs": [],
   "source": []
  }
 ],
 "metadata": {
  "kernelspec": {
   "display_name": "Python 3",
   "language": "python",
   "name": "python3"
  },
  "language_info": {
   "codemirror_mode": {
    "name": "ipython",
    "version": 3
   },
   "file_extension": ".py",
   "mimetype": "text/x-python",
   "name": "python",
   "nbconvert_exporter": "python",
   "pygments_lexer": "ipython3",
   "version": "3.5.4"
  }
 },
 "nbformat": 4,
 "nbformat_minor": 2
}
